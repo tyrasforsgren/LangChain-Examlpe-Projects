{
 "cells": [
  {
   "cell_type": "code",
   "execution_count": 1,
   "metadata": {},
   "outputs": [],
   "source": [
    "import CourseGeneration"
   ]
  },
  {
   "cell_type": "code",
   "execution_count": 2,
   "metadata": {},
   "outputs": [],
   "source": [
    "marketing_aid = CourseGeneration.CourseGenerator()"
   ]
  },
  {
   "cell_type": "code",
   "execution_count": 3,
   "metadata": {},
   "outputs": [
    {
     "name": "stderr",
     "output_type": "stream",
     "text": [
      "C:\\Users\\tyraf\\AppData\\Local\\Packages\\PythonSoftwareFoundation.Python.3.11_qbz5n2kfra8p0\\LocalCache\\local-packages\\Python311\\site-packages\\langchain_core\\_api\\deprecation.py:117: LangChainDeprecationWarning: The class `langchain_community.chat_models.openai.ChatOpenAI` was deprecated in langchain-community 0.0.10 and will be removed in 0.2.0. An updated version of the class exists in the langchain-openai package and should be used instead. To use it run `pip install -U langchain-openai` and import as `from langchain_openai import ChatOpenAI`.\n",
      "  warn_deprecated(\n"
     ]
    },
    {
     "name": "stdout",
     "output_type": "stream",
     "text": [
      "Course: Introduction to Data Analysis\n",
      "\n",
      "Course Description:\n",
      "This course is designed for beginners interested in learning the fundamental concepts and techniques of data analysis. Students will gain practical skills in gathering, analyzing, and interpreting data to make informed decisions and identify patterns and trends. Throughout the course, emphasis will be placed on understanding the importance of data analysis in various industries and how it can drive business insights and decision-making.\n",
      "\n",
      "Course Duration: 8 weeks (2 hours per week)\n",
      "\n",
      "Course Outline:\n",
      "\n",
      "Week 1:\n",
      "- Introduction to Data Analysis\n",
      "  - What is data analysis?\n",
      "  - Importance and applications of data analysis\n",
      "  - Roles and responsibilities of a data analyst\n",
      "\n",
      "Week 2:\n",
      "- Types of Data\n",
      "  - Categorical data\n",
      "  - Numerical data\n",
      "  - Discrete and continuous data\n",
      "\n",
      "Week 3:\n",
      "- Data Collection Methods\n",
      "  - Surveys/questionnaires\n",
      "  - Interviews\n",
      "  - Observations\n",
      "  - Existing data sources\n",
      "\n",
      "Week 4:\n",
      "- Data Cleaning and Preprocessing\n",
      "  - Handling missing data\n",
      "  - Removing duplicates\n",
      "  - Handling outliers\n",
      "  - Data normalization and scaling\n",
      "\n",
      "Week 5:\n",
      "- Exploratory Data Analysis (EDA)\n",
      "  - Data visualization techniques\n",
      "  - Descriptive statistics\n",
      "  - Data distribution analysis\n",
      "\n",
      "Week 6:\n",
      "- Introduction to Statistical Analysis\n",
      "  - Hypothesis testing\n",
      "  - T-tests and chi-square tests\n",
      "  - Correlation analysis\n",
      "\n",
      "Week 7:\n",
      "- Introduction to Regression Analysis\n",
      "  -\n"
     ]
    }
   ],
   "source": [
    "course_description = '''A course teaching data analasys'''\n",
    "print(marketing_aid.generate_beginner_course_outline(course_description))"
   ]
  },
  {
   "cell_type": "code",
   "execution_count": 4,
   "metadata": {},
   "outputs": [
    {
     "name": "stdout",
     "output_type": "stream",
     "text": [
      "Course Title: Advanced Data Analysis for Professionals\n",
      "\n",
      "Course Description:\n",
      "The Advanced Data Analysis for Professionals course is designed for individuals in IT, cloud solutions, system architecture, machine learning, and artificial intelligence who already possess a basic understanding of statistics and data analysis concepts. This course aims to enhance participants' knowledge and skills in leveraging data to make informed business decisions. The course will cover advanced techniques, tools, and methodologies for data analysis in various sectors, emphasizing real-world applications.\n",
      "\n",
      "Course Objectives:\n",
      "1. Develop proficiency in advanced statistical concepts and techniques for analyzing complex data sets.\n",
      "2. Gain hands-on experience in utilizing industry-standard tools and technologies for data analysis.\n",
      "3. Understand the challenges and best practices for working with big data and cloud-based solutions.\n",
      "4. Explore effective data visualization techniques to effectively communicate insights to stakeholders.\n",
      "5. Apply machine learning and artificial intelligence algorithms to extract meaningful patterns and predictions from data.\n",
      "6. Develop a comprehensive understanding of ethical considerations and legal aspects related to data analysis in professional settings.\n",
      "\n",
      "Course Outline:\n",
      "\n",
      "Module 1: Advanced Statistical Analysis Techniques\n",
      "- Hypothesis testing and confidence intervals\n",
      "- Analysis of variance (ANOVA)\n",
      "- Regression analysis\n",
      "- Time series analysis\n",
      "\n",
      "Module 2: Tools and Technologies for Data Analysis\n",
      "- Introduction to Python programming for data analysis\n",
      "- Utilizing R for statistical modeling and analysis\n",
      "- Data manipulation with SQL\n",
      "- Exploratory data analysis with Pandas\n",
      "\n",
      "Module 3: Big Data and Cloud-Based Solutions\n",
      "- Introduction to big data\n"
     ]
    }
   ],
   "source": [
    "print(marketing_aid.generate_advanced_course_outline(course_description))"
   ]
  },
  {
   "cell_type": "code",
   "execution_count": 5,
   "metadata": {},
   "outputs": [
    {
     "name": "stdout",
     "output_type": "stream",
     "text": [
      "Introducing \"Code Marvels: Python Edition\" - Unlock Your Child's Programming Potential!\n",
      "\n",
      "Are you ready to equip your junior with 21st-century skills that will shape their future? Look no further! We present to you the ultimate coding course designed exclusively for juniors - \"Code Marvels: Python Edition.\"\n",
      "\n",
      "1) Empower Your Junior with Python Magic: \n",
      "In today's tech-driven world, competitive advantage lies in coding fluency. Give your child the ability to conquer the digital realm by mastering Python, one of the most versatile and widely-used programming languages. With Python, your junior can develop websites, create games, build software applications, and even explore artificial intelligence.\n",
      "\n",
      "2) Make Learning Fun and Engaging:\n",
      "Say goodbye to conventional teaching methods! Our cutting-edge curriculum is designed by industry experts who understand the importance of engaging young minds. Through interactive projects, collaborative exercises, and gamified challenges, we transform learning into a thrilling adventure. Say hello to eager learners and goodbye to boredom!\n",
      "\n",
      "3) Empathy-Driven Teaching Approach:\n",
      "We believe that every child learns differently. That's why our experienced instructors focus on fostering a supportive and inclusive learning environment. With smaller class sizes, personalized attention, and compassionate guidance, we ensure that no junior is left behind. By understanding their unique strengths and preferences, we ignite a love for coding that lasts a lifetime.\n",
      "\n",
      "4) Open Doors to Limitless Opportunities:\n",
      "Coding fluency opens a world of endless prospects for your junior. Whether they dream of becoming\n"
     ]
    }
   ],
   "source": [
    "course_description_2 = '''A course that teaches juniors how to code python'''\n",
    "print(marketing_aid.generate_marketing_text(course_description_2))"
   ]
  },
  {
   "cell_type": "code",
   "execution_count": 6,
   "metadata": {},
   "outputs": [
    {
     "name": "stdout",
     "output_type": "stream",
     "text": [
      "1. \"Unleash Your Coding Potential: Master Python with Our Junior-Friendly Course!\"\n",
      "2. \"From Novice to Ninja: Empower Juniors with Python Coding Skills!\"\n",
      "3. \"Supercharge Your Skills: The Ultimate Python Coding Course for Juniors!\"\n",
      "4. \"Unlock the World of Python: Junior Edition Course for Future Coders!\"\n",
      "5. \"Become a Python Pro at a Young Age: Transformative Course for Juniors!\"\n",
      "6. \"Ignite the Spark of Coding: Engaging Python Course for Junior Learners!\"\n",
      "7. \"Junior Coders Unite: Embark on a Python Coding Adventure with our Course!\"\n",
      "8. \"Python Made Fun and Easy: Enroll Juniors in our Engaging Coding Course!\"\n",
      "9. \"Level up Your Junior's Skills: Python Coding Course Tailored for Success!\"\n",
      "10. \"Building Foundations for Junior Coders: Master Python with our Dedicated Course!\"\n"
     ]
    }
   ],
   "source": [
    "print(marketing_aid.generate_titles(course_description_2))"
   ]
  },
  {
   "cell_type": "code",
   "execution_count": 7,
   "metadata": {},
   "outputs": [
    {
     "name": "stdout",
     "output_type": "stream",
     "text": [
      "Title: Sales Analysis\n",
      "\n",
      "Difficulty: Intermediate\n",
      "\n",
      "Problem Description:\n",
      "You are provided with a dataset \"sales_data.csv\" containing sales information for a company. Your task is to write a Python program using the Pandas module to perform the following analysis:\n",
      "\n",
      "1. Load the dataset into a Pandas DataFrame.\n",
      "2. Display the first 5 rows of the DataFrame.\n",
      "3. Check for any missing values in the dataset and handle them accordingly.\n",
      "4. Convert the \"Date\" column to the appropriate date format.\n",
      "5. Calculate the total sales for each month and create a new column \"Total Sales\".\n",
      "6. Display the top 5 months with the highest total sales.\n",
      "7. Create a bar chart to visualize the monthly sales.\n",
      "8. Calculate the average sales for each product and create a new column \"Average Sales\".\n",
      "9. Display the products with the highest average sales.\n",
      "10. Calculate the total sales for each region and display the region with the highest total sales.\n",
      "\n",
      "Dataset Format:\n",
      "- Column 1: Date (format: dd-mm-yyyy)\n",
      "- Column 2: Product (string)\n",
      "- Column 3: Region (string)\n",
      "- Column 4: Sales (numeric)\n",
      "\n",
      "Note: Make sure to provide clear instructions/comments along with your code for easier understanding.\n",
      "\n",
      "[Difficulty: Advanced Challenge]\n",
      "11. Split the dataset into separate DataFrames based on the region.\n",
      "12. Save each region's data into separate CSV files named after the region name.\n",
      "\n",
      "Bonus Task:\n",
      "Write a function that takes the dataset\n"
     ]
    }
   ],
   "source": [
    "subject = '''Pandas module'''\n",
    "print(marketing_aid.generate_coding_exersizes(subject))"
   ]
  },
  {
   "cell_type": "code",
   "execution_count": 8,
   "metadata": {},
   "outputs": [
    {
     "name": "stdout",
     "output_type": "stream",
     "text": [
      "Problem: Sales Analysis using Pandas\n",
      "\n",
      "Difficulty: Hard\n",
      "\n",
      "Description:\n",
      "You have been provided with a sales dataset in CSV format named 'sales_data.csv'. The dataset contains information about the sales of various products by different salespersons. Your task is to analyze the sales data using the Pandas module and answer the following questions.\n",
      "\n",
      "1. Read the 'sales_data.csv' file into a Pandas DataFrame.\n",
      "2. Print the total number of records in the dataset.\n",
      "3. Calculate the total sales amount for each salesperson and print the result sorted in descending order.\n",
      "4. Identify the product with the highest sales amount and print its details (product name, salesperson, and sales amount).\n",
      "5. Identify the salesperson with the highest overall sales amount and print their details (name, total sales amount, and average sales per transaction).\n",
      "6. Calculate the total sales amount for each month and print the result sorted by month in ascending order.\n",
      "7. Identify the month with the highest sales amount and print its details (month, total sales amount, and number of transactions in that month).\n",
      "8. Calculate the average sales amount per transaction for each salesperson and print the results sorted in descending order.\n",
      "9. Calculate the total sales amount for each product category and print the result sorted in descending order.\n",
      "10. Calculate the average sales amount per transaction for each month and print the results sorted by month in ascending order.\n",
      "\n",
      "Note:\n",
      "- The 'sales_data.csv' file contains the following columns: 'Transaction_ID\n"
     ]
    }
   ],
   "source": [
    "print(marketing_aid.generate_coding_exersizes(subject,difficulty='hard'))"
   ]
  },
  {
   "cell_type": "code",
   "execution_count": 10,
   "metadata": {},
   "outputs": [
    {
     "name": "stdout",
     "output_type": "stream",
     "text": [
      "Help on function generate_marketing in module CourseGeneration:\n",
      "\n",
      "generate_marketing(system_template, product_description)\n",
      "\n"
     ]
    }
   ],
   "source": [
    "# All methods are build off of a global function in the module\n",
    "help(CourseGeneration.generate_marketing)"
   ]
  }
 ],
 "metadata": {
  "kernelspec": {
   "display_name": "Python 3",
   "language": "python",
   "name": "python3"
  },
  "language_info": {
   "codemirror_mode": {
    "name": "ipython",
    "version": 3
   },
   "file_extension": ".py",
   "mimetype": "text/x-python",
   "name": "python",
   "nbconvert_exporter": "python",
   "pygments_lexer": "ipython3",
   "version": "3.11.8"
  }
 },
 "nbformat": 4,
 "nbformat_minor": 2
}
